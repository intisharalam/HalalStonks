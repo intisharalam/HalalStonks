{
 "cells": [
  {
   "cell_type": "code",
   "execution_count": 32,
   "metadata": {},
   "outputs": [],
   "source": [
    "import yfinance as yf\n",
    "import pandas as pd\n",
    "\n",
    "# Define the stock ticker symbol\n",
    "ticker = \"RR\"  # Example: Apple Inc.\n",
    "\n",
    "# Retrieve the stock information\n",
    "stock = yf.Ticker(ticker)\n",
    "\n",
    "#print(stock)"
   ]
  },
  {
   "cell_type": "code",
   "execution_count": 46,
   "metadata": {},
   "outputs": [],
   "source": [
    "balance_sheet = stock.balance_sheet\n",
    "financials = stock.financials\n",
    "cashflow = stock.cashflow\n",
    "info = stock.info\n",
    "\n",
    "# Convert to pandas DataFrames for easier inspection\n",
    "balance_sheet_df = pd.DataFrame(balance_sheet)\n",
    "financials_df = pd.DataFrame(financials)\n",
    "cashflow_df = pd.DataFrame(cashflow)"
   ]
  },
  {
   "cell_type": "code",
   "execution_count": 47,
   "metadata": {},
   "outputs": [],
   "source": [
    "# Set pandas display options to show all rows and columns\n",
    "pd.set_option('display.max_rows', None)  # Show all rows\n",
    "pd.set_option('display.max_columns', None)  # Show all columns"
   ]
  },
  {
   "cell_type": "code",
   "execution_count": 48,
   "metadata": {},
   "outputs": [
    {
     "data": {
      "text/plain": [
       "'\\n# Print the dataframes to inspect\\nprint(\"Balance Sheet:\")\\nprint(balance_sheet_df.iloc[:,0])\\nprint(\"\\nFinancials:\")\\nprint(financials_df.iloc[:,0])\\nprint(\"\\nCash Flow:\")\\nprint(cashflow_df.iloc[:,0])\\n'"
      ]
     },
     "execution_count": 48,
     "metadata": {},
     "output_type": "execute_result"
    }
   ],
   "source": [
    "\"\"\"\n",
    "# Print the dataframes to inspect\n",
    "print(\"Balance Sheet:\")\n",
    "print(balance_sheet_df.iloc[:,0])\n",
    "print(\"\\nFinancials:\")\n",
    "print(financials_df.iloc[:,0])\n",
    "print(\"\\nCash Flow:\")\n",
    "print(cashflow_df.iloc[:,0])\n",
    "\"\"\""
   ]
  },
  {
   "cell_type": "code",
   "execution_count": 38,
   "metadata": {},
   "outputs": [
    {
     "name": "stdout",
     "output_type": "stream",
     "text": [
      "\n",
      "Total Assets: 7853000.0\n",
      "Total Debt: 1160000.0\n",
      "Cash And Cash Equivalents: 433000.0\n",
      "Total Revenue: 8759000.0\n",
      "Interest Expense: 734000.0\n"
     ]
    }
   ],
   "source": [
    "# Extract relevant data points\n",
    "total_assets = balance_sheet_df.loc['Total Assets'].iloc[0]\n",
    "total_debt = balance_sheet_df.loc['Total Debt'].iloc[0]\n",
    "cash_and_cash_equivalents = balance_sheet_df.loc['Cash And Cash Equivalents'].iloc[0]\n",
    "total_revenue = financials_df.loc['Total Revenue'].iloc[0]\n",
    "interest_expense = financials_df.loc['Interest Expense'].iloc[0] if 'Interest Expense' in financials_df.index else 0\n",
    "\n",
    "# Debug: Print the extracted data points\n",
    "print(f\"\\nTotal Assets: {total_assets}\")\n",
    "print(f\"Total Debt: {total_debt}\")\n",
    "print(f\"Cash And Cash Equivalents: {cash_and_cash_equivalents}\")\n",
    "print(f\"Total Revenue: {total_revenue}\")\n",
    "print(f\"Interest Expense: {interest_expense}\")"
   ]
  },
  {
   "cell_type": "code",
   "execution_count": 39,
   "metadata": {},
   "outputs": [
    {
     "name": "stdout",
     "output_type": "stream",
     "text": [
      "\n",
      "Debt Ratio: 14.77% (Halal: True)\n"
     ]
    }
   ],
   "source": [
    "# Apply Islamic finance screening criteria\n",
    "# Criterion 1: Debt to total assets should be less than 33%\n",
    "debt_ratio = total_debt / total_assets\n",
    "is_debt_ratio_halal = debt_ratio < 0.33\n",
    "print(f\"\\nDebt Ratio: {debt_ratio:.2%} (Halal: {is_debt_ratio_halal})\")"
   ]
  },
  {
   "cell_type": "code",
   "execution_count": 40,
   "metadata": {},
   "outputs": [
    {
     "name": "stdout",
     "output_type": "stream",
     "text": [
      "Cash Ratio: 5.51% (Halal: True)\n"
     ]
    }
   ],
   "source": [
    "# Criterion 2: Cash + interest-bearing securities to total assets should be less than 33%\n",
    "cash_ratio = cash_and_cash_equivalents / total_assets\n",
    "is_cash_ratio_halal = cash_ratio < 0.33\n",
    "print(f\"Cash Ratio: {cash_ratio:.2%} (Halal: {is_cash_ratio_halal})\")"
   ]
  },
  {
   "cell_type": "code",
   "execution_count": 41,
   "metadata": {},
   "outputs": [
    {
     "name": "stdout",
     "output_type": "stream",
     "text": [
      "Interest Income Ratio: 8.38% (Halal: False)\n"
     ]
    }
   ],
   "source": [
    "# Criterion 3: Interest income to total revenue should be less than 5%\n",
    "interest_income_ratio = abs(interest_expense) / total_revenue\n",
    "is_interest_income_ratio_halal = interest_income_ratio < 0.05\n",
    "print(f\"Interest Income Ratio: {interest_income_ratio:.2%} (Halal: {is_interest_income_ratio_halal})\")"
   ]
  },
  {
   "cell_type": "code",
   "execution_count": 42,
   "metadata": {},
   "outputs": [
    {
     "name": "stdout",
     "output_type": "stream",
     "text": [
      "Industry: Specialty Industrial Machinery (Halal: True)\n"
     ]
    }
   ],
   "source": [
    "# List to store haram industries\n",
    "haram_industries = [\n",
    "    \"Beverages - Brewers\", \"Beverages - Wineries & Distilleries\", \"Beverages - Non-Alcoholic\", \n",
    "    \"Confectioners\", \"Gambling\", \"Casinos\", \"Banks—Diversified\", \"Banks—Regional\", \"Credit Services\", \n",
    "    \"Mortgage Finance\", \"Entertainment\", \"Broadcasting\", \"Tobacco\", \"Alcohol-related industries\",\n",
    "    \"Interest-based financial services\", \"Certain entertainment sectors\"\n",
    "]\n",
    "\n",
    "# Business activity screening (requires manual check based on industry and company activities)\n",
    "# Here we can check if the company is in a sector that is generally considered halal\n",
    "industry = info['industry']\n",
    "is_industry_halal = industry not in haram_industries\n",
    "print(f\"Industry: {industry} (Halal: {is_industry_halal})\")"
   ]
  },
  {
   "cell_type": "code",
   "execution_count": 43,
   "metadata": {},
   "outputs": [
    {
     "name": "stdout",
     "output_type": "stream",
     "text": [
      "Is the stock halal? No\n"
     ]
    }
   ],
   "source": [
    "# Final check\n",
    "is_halal = is_debt_ratio_halal and is_cash_ratio_halal and is_interest_income_ratio_halal and is_industry_halal\n",
    "print(f\"Is the stock halal? {'Yes' if is_halal else 'No'}\")\n"
   ]
  },
  {
   "cell_type": "code",
   "execution_count": null,
   "metadata": {},
   "outputs": [],
   "source": []
  }
 ],
 "metadata": {
  "kernelspec": {
   "display_name": "Python 3",
   "language": "python",
   "name": "python3"
  },
  "language_info": {
   "codemirror_mode": {
    "name": "ipython",
    "version": 3
   },
   "file_extension": ".py",
   "mimetype": "text/x-python",
   "name": "python",
   "nbconvert_exporter": "python",
   "pygments_lexer": "ipython3",
   "version": "3.12.4"
  }
 },
 "nbformat": 4,
 "nbformat_minor": 2
}
